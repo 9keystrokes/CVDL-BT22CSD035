{
  "nbformat": 4,
  "nbformat_minor": 0,
  "metadata": {
    "colab": {
      "provenance": [],
      "authorship_tag": "ABX9TyOeMSsG2s8gkqlD0xwsHxIS"
    },
    "kernelspec": {
      "name": "python3",
      "display_name": "Python 3"
    },
    "language_info": {
      "name": "python"
    }
  },
  "cells": [
    {
      "cell_type": "code",
      "execution_count": null,
      "metadata": {
        "id": "SGJ2JbqVjy1V"
      },
      "outputs": [],
      "source": []
    }
  ]
}