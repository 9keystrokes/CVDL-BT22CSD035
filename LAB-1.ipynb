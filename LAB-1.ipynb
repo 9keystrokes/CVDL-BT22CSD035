{
  "nbformat": 4,
  "nbformat_minor": 0,
  "metadata": {
    "colab": {
      "provenance": []
    },
    "kernelspec": {
      "name": "python3",
      "display_name": "Python 3"
    },
    "language_info": {
      "name": "python"
    }
  },
  "cells": [
    {
      "cell_type": "code",
      "source": [
        "print(\"hello\")"
      ],
      "metadata": {
        "id": "8ymiN0-Q67bt"
      },
      "execution_count": null,
      "outputs": []
    }
  ]
}
